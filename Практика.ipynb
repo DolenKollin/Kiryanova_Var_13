{
 "cells": [
  {
   "cell_type": "markdown",
   "metadata": {},
   "source": [
    "# Практика\n",
    "*Выполнила Кирьянова Дина, вариант 13*"
   ]
  },
  {
   "cell_type": "markdown",
   "metadata": {},
   "source": [
    "### Задание 1"
   ]
  },
  {
   "cell_type": "code",
   "execution_count": 1,
   "metadata": {},
   "outputs": [],
   "source": [
    "import numpy as np\n",
    "import pandas as pd\n",
    "ε = np.math.pow(10, -12)"
   ]
  },
  {
   "cell_type": "markdown",
   "metadata": {},
   "source": [
    "#### Признак Лейбница"
   ]
  },
  {
   "cell_type": "code",
   "execution_count": 2,
   "metadata": {},
   "outputs": [],
   "source": [
    "def Σ(x, S):\n",
    "    n = 0\n",
    "    sum = 0\n",
    "    a = 1\n",
    "    term = np.array([])\n",
    "    while np.fabs(a) > ε:\n",
    "        a = np.divide(np.math.pow(-1, n) * np.math.pow(x, n), np.math.factorial(n))\n",
    "        term = np.append(term, a)\n",
    "        sum += a\n",
    "        n += 1\n",
    "    return(sum, n, term)"
   ]
  },
  {
   "cell_type": "markdown",
   "metadata": {},
   "source": [
    "#### По Кэхэну"
   ]
  },
  {
   "cell_type": "code",
   "execution_count": 3,
   "metadata": {},
   "outputs": [],
   "source": [
    "def KahanSum(n, term):\n",
    "    s = 0\n",
    "    c = 0\n",
    "    for i in range(n):\n",
    "        y = term[i] - c\n",
    "        t = s + y\n",
    "        c = (t - s) - y\n",
    "        s = t\n",
    "    return s"
   ]
  },
  {
   "cell_type": "markdown",
   "metadata": {},
   "source": [
    "#### Точка 1"
   ]
  },
  {
   "cell_type": "code",
   "execution_count": 4,
   "metadata": {},
   "outputs": [
    {
     "name": "stdout",
     "output_type": "stream",
     "text": [
      "x = 1, n = 16\n",
      "    S = 0.36787944117144233\n",
      "  sum = 0.3678794411713973,  δ = 4.50195436485501e-14\n",
      "order = 0.36787944117139704, δ = 4.529709940470639e-14\n",
      "Kahan = 0.3678794411713972,  δ = 4.5130565951012613e-14\n"
     ]
    }
   ],
   "source": [
    "x = 1\n",
    "S = 1 / np.e\n",
    "sum, n, term = Σ(x, S)\n",
    "kahan_sum = KahanSum(n, term)\n",
    "order_sum = np.sum(np.sort(term))\n",
    "print(f'x = {x}, n = {n}\\n    S = {S}')\n",
    "print(f'  sum = {sum},  δ = {S - sum}')\n",
    "print(f'order = {order_sum}, δ = {S - order_sum}')\n",
    "print(f'Kahan = {kahan_sum},  δ = {S - kahan_sum}')\n"
   ]
  },
  {
   "cell_type": "markdown",
   "metadata": {},
   "source": [
    "#### Точка 2"
   ]
  },
  {
   "cell_type": "code",
   "execution_count": 5,
   "metadata": {},
   "outputs": [
    {
     "name": "stdout",
     "output_type": "stream",
     "text": [
      "x = 10, n = 48\n",
      "    S = 4.539992976248488e-05\n",
      "  sum = 4.5399929366746555e-05, δ = 3.957383262775428e-13\n",
      "order = 4.539993096841499e-05,  δ = -1.20593011081584e-12\n",
      "Kahan = 4.539992936674656e-05,  δ = 3.9573831950127925e-13\n"
     ]
    }
   ],
   "source": [
    "x = 10\n",
    "S = 1 / np.math.pow(np.e, 10)\n",
    "sum, n, term = Σ(x, S)\n",
    "kahan_sum = KahanSum(n, term)\n",
    "order_sum = np.sum(np.sort(term))\n",
    "print(f'x = {x}, n = {n}\\n    S = {S}')\n",
    "print(f'  sum = {sum}, δ = {S - sum}')\n",
    "print(f'order = {order_sum},  δ = {S - order_sum}')\n",
    "print(f'Kahan = {kahan_sum},  δ = {S - kahan_sum}')"
   ]
  },
  {
   "cell_type": "markdown",
   "metadata": {},
   "source": [
    "### Задание 2"
   ]
  },
  {
   "cell_type": "code",
   "execution_count": 6,
   "metadata": {},
   "outputs": [],
   "source": [
    "ε = np.math.pow(10, -8)\n",
    "ω = np.linspace(0, 20, 101)"
   ]
  },
  {
   "cell_type": "code",
   "execution_count": 7,
   "metadata": {},
   "outputs": [],
   "source": [
    "def J2(x):\n",
    "    n = 0\n",
    "    a = 1\n",
    "    sum_1 = 0\n",
    "    temp = np.array([])\n",
    "    while np.abs(a) > ε and n <= 100:\n",
    "        a = np.divide(np.math.pow(-1, n) * np.math.pow(x, 2*(n+1)), np.math.factorial(n) * np.math.factorial(n+2) * np.math.pow(4, n+1))\n",
    "        temp = np.append(temp, a)\n",
    "        sum_1 += a\n",
    "        n += 1\n",
    "    sum_2 = np.sum(np.sort(temp))\n",
    "    return n, '{:.15f}'.format(sum_1), '{:.15f}'.format(sum_2)"
   ]
  },
  {
   "cell_type": "code",
   "execution_count": 10,
   "metadata": {},
   "outputs": [],
   "source": [
    "df = pd.DataFrame(columns=['x_i', 'n', 'sum_1', 'sum_2'])\n",
    "for i in np.arange(101):\n",
    "    df.loc[i] = [ω[i]//0.1, J2(ω[i])[0], J2(ω[i])[1], J2(ω[i])[2]]\n",
    "df.to_csv('data.csv')"
   ]
  },
  {
   "cell_type": "code",
   "execution_count": null,
   "metadata": {},
   "outputs": [],
   "source": []
  }
 ],
 "metadata": {
  "kernelspec": {
   "display_name": "Python 3.10.6 64-bit",
   "language": "python",
   "name": "python3"
  },
  "language_info": {
   "codemirror_mode": {
    "name": "ipython",
    "version": 3
   },
   "file_extension": ".py",
   "mimetype": "text/x-python",
   "name": "python",
   "nbconvert_exporter": "python",
   "pygments_lexer": "ipython3",
   "version": "3.10.6"
  },
  "orig_nbformat": 4,
  "vscode": {
   "interpreter": {
    "hash": "34858fb4650e4f08c5273abdf3b94d08eabaf2da6ad278d4e34e857f9bde1bd0"
   }
  }
 },
 "nbformat": 4,
 "nbformat_minor": 2
}
